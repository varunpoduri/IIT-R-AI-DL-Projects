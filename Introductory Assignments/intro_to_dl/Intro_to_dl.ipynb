{
  "nbformat": 4,
  "nbformat_minor": 0,
  "metadata": {
    "colab": {
      "provenance": []
    },
    "kernelspec": {
      "name": "python3",
      "display_name": "Python 3"
    },
    "language_info": {
      "name": "python"
    }
  },
  "cells": [
    {
      "cell_type": "code",
      "execution_count": 1,
      "metadata": {
        "id": "EgiLiOejnxNa"
      },
      "outputs": [],
      "source": [
        "# The assignment consists of 10 MCQs, each with a single or multiple correct\n",
        "# answers.\n",
        "# 1. Which industries commonly use Deep Learning for image recognition applications?\n",
        "# a. Healthcare\n",
        "# b. Manufacturing\n",
        "# c. Retail\n",
        "# d. All of the above\n",
        "\n",
        "\n",
        "# ANS d. All of the above"
      ]
    },
    {
      "cell_type": "code",
      "source": [
        "# 2. What distinguishes Deep Learning from traditional Machine Learning?\n",
        "# a. Depth of Neural Networks\n",
        "# b. Type of Algorithms used\n",
        "# c. Machine Learning is an evolution of Deep Learning\n",
        "# d. Volume of data processed\n",
        "# i. a,d\n",
        "# ii. a,b,c,d\n",
        "# iii. a,c,d\n",
        "# iv. a,b\n",
        "\n",
        "\n",
        "# Ans: i. a, d"
      ],
      "metadata": {
        "id": "bwNdSVKtoTzn"
      },
      "execution_count": 2,
      "outputs": []
    },
    {
      "cell_type": "code",
      "source": [
        "# 3. Which metrics are commonly used to evaluate the performance of a classification\n",
        "# model?\n",
        "# a. Mean squared error\n",
        "# b. Root mean squared error\n",
        "# c. F1 score\n",
        "# d. R-squared\n",
        "\n",
        "\n",
        "#Ans: c. F1 score"
      ],
      "metadata": {
        "id": "wt_LeJHHodrN"
      },
      "execution_count": 3,
      "outputs": []
    },
    {
      "cell_type": "code",
      "source": [
        "# 4. Which of the following are the key components of Deep Learning (DL)?\n",
        "# a. Decision Trees\n",
        "# b. Neural Networks\n",
        "# c. Support Vector Machines\n",
        "# d. K-Means Clustering\n",
        "\n",
        "\n",
        "#Ans:  b. Neural Networks"
      ],
      "metadata": {
        "id": "FW2YjY6fpJXn"
      },
      "execution_count": 4,
      "outputs": []
    },
    {
      "cell_type": "code",
      "source": [
        "# 5. What are the main challenges in training deep neural networks?\n",
        "# a. Lack of labeled data\n",
        "# b. Overfitting\n",
        "# c. Underfitting\n",
        "# d. None of the above\n",
        "\n",
        "#Ans: b. Overfitting (preferably all a, b, c)"
      ],
      "metadata": {
        "id": "811XdzxGpQlG"
      },
      "execution_count": 5,
      "outputs": []
    },
    {
      "cell_type": "code",
      "source": [
        "# 6. Which technology is a subset of AI and focuses on training models to learn\n",
        "# from data?\n",
        "# a. Artificial Intelligence\n",
        "# b. Machine Learning\n",
        "# c. Deep Learning\n",
        "# d. Data Science\n",
        "\n",
        "\n",
        "#Ans: b. Machine Learning"
      ],
      "metadata": {
        "id": "HmGTC_t7pqb-"
      },
      "execution_count": 6,
      "outputs": []
    },
    {
      "cell_type": "code",
      "source": [
        "# 7. In the context of Deep Learning, what is a neural network?\n",
        "# a. A network of interconnected computers\n",
        "# b. A network of interconnected neurons\n",
        "# c. A network of interconnected databases\n",
        "# d. A network of interconnected algorithms\n",
        "\n",
        "\n",
        "#Ans:  b. A network of interconnected neurons"
      ],
      "metadata": {
        "id": "yPjF3-Wxp35Y"
      },
      "execution_count": 7,
      "outputs": []
    },
    {
      "cell_type": "code",
      "source": [
        "# 8. What is the role of hyperparameter tuning in the model evaluation phase?\n",
        "# a. To adjust the learning rate\n",
        "# b. To optimize model parameters for better performance\n",
        "# c. To select features\n",
        "# d. To preprocess the data\n",
        "\n",
        "\n",
        "#Ans  b. To optimize model parameters for better performance"
      ],
      "metadata": {
        "id": "zn4bZu3pqFYf"
      },
      "execution_count": 8,
      "outputs": []
    },
    {
      "cell_type": "code",
      "source": [
        "# 9. What is the primary goal during the project initiation phase of a Deep Learning\n",
        "# project?\n",
        "# a. Model training\n",
        "# b. Define the problem and scope\n",
        "# c. Hyperparameter tuning\n",
        "# d. Data collection\n",
        "\n",
        "\n",
        "#Ans b. Define the problem and scope"
      ],
      "metadata": {
        "id": "nj8hbep8qQ3i"
      },
      "execution_count": 9,
      "outputs": []
    },
    {
      "cell_type": "code",
      "source": [
        "# 10. Why is continuous monitoring important in the life cycle of a deployed Deep\n",
        "# Learning model?\n",
        "# a. To retrain the model from scratch\n",
        "# b. To ensure the model adapts to changing data patterns\n",
        "# c. To deploy a new model version daily\n",
        "# d. to skip the evalutaion phase\n",
        "\n",
        "\n",
        "#Ans: b. To ensure the model adapts to changing data patterns\n",
        "\n"
      ],
      "metadata": {
        "id": "TfyGhiW2rm8c"
      },
      "execution_count": 10,
      "outputs": []
    },
    {
      "cell_type": "code",
      "source": [],
      "metadata": {
        "id": "NuFJskYnrzCW"
      },
      "execution_count": null,
      "outputs": []
    }
  ]
}